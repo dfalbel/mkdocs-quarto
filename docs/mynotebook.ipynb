{
 "cells": [
  {
   "cell_type": "code",
   "execution_count": null,
   "id": "9c5a965c",
   "metadata": {
    "vscode": {
     "languageId": "python"
    }
   },
   "outputs": [],
   "source": [
    "import pandas as pd\n",
    "x = pd.DataFrame({'col1': [1, 2], 'col2': [3, 4]})\n",
    "x"
   ]
  },
  {
   "cell_type": "markdown",
   "id": "7e1c41dd",
   "metadata": {},
   "source": [
    "For example, see @fig-plot.\n",
    "[hello](test.qmd)"
   ]
  }
 ],
 "metadata": {
  "language_info": {
   "name": "plaintext"
  }
 },
 "nbformat": 4,
 "nbformat_minor": 5
}
